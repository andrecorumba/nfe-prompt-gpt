{
 "cells": [
  {
   "cell_type": "code",
   "execution_count": 1,
   "metadata": {},
   "outputs": [],
   "source": [
    "import pandas as pd"
   ]
  },
  {
   "cell_type": "code",
   "execution_count": 5,
   "metadata": {},
   "outputs": [
    {
     "data": {
      "text/html": [
       "<div>\n",
       "<style scoped>\n",
       "    .dataframe tbody tr th:only-of-type {\n",
       "        vertical-align: middle;\n",
       "    }\n",
       "\n",
       "    .dataframe tbody tr th {\n",
       "        vertical-align: top;\n",
       "    }\n",
       "\n",
       "    .dataframe thead th {\n",
       "        text-align: right;\n",
       "    }\n",
       "</style>\n",
       "<table border=\"1\" class=\"dataframe\">\n",
       "  <thead>\n",
       "    <tr style=\"text-align: right;\">\n",
       "      <th></th>\n",
       "      <th>text</th>\n",
       "    </tr>\n",
       "  </thead>\n",
       "  <tbody>\n",
       "    <tr>\n",
       "      <th>0</th>\n",
       "      <td>ARROZ PARBOLIZADO,LONGO FINO T1,PCT 1.0KG,BLUE...</td>\n",
       "    </tr>\n",
       "    <tr>\n",
       "      <th>1</th>\n",
       "      <td>BISCOITO MAISENA C/ 400G - MABEL</td>\n",
       "    </tr>\n",
       "    <tr>\n",
       "      <th>2</th>\n",
       "      <td>FILé DE MERLUZA CONG.</td>\n",
       "    </tr>\n",
       "    <tr>\n",
       "      <th>3</th>\n",
       "      <td>AçúCAR CRISTAL PINDORAMA FD30X1KG</td>\n",
       "    </tr>\n",
       "    <tr>\n",
       "      <th>4</th>\n",
       "      <td>MINGAU DE MILHO VERDE COM CòCO</td>\n",
       "    </tr>\n",
       "  </tbody>\n",
       "</table>\n",
       "</div>"
      ],
      "text/plain": [
       "                                                text\n",
       "0  ARROZ PARBOLIZADO,LONGO FINO T1,PCT 1.0KG,BLUE...\n",
       "1                   BISCOITO MAISENA C/ 400G - MABEL\n",
       "2                              FILé DE MERLUZA CONG.\n",
       "3                  AçúCAR CRISTAL PINDORAMA FD30X1KG\n",
       "4                     MINGAU DE MILHO VERDE COM CòCO"
      ]
     },
     "execution_count": 5,
     "metadata": {},
     "output_type": "execute_result"
    }
   ],
   "source": [
    "df = pd.read_csv(\"../data/nfe_produto_1000_estruturado_anotado_test.csv\")\n",
    "df.head()"
   ]
  },
  {
   "cell_type": "code",
   "execution_count": 6,
   "metadata": {},
   "outputs": [
    {
     "data": {
      "text/plain": [
       "'4957 - FLOCãO DE MILHO'"
      ]
     },
     "execution_count": 6,
     "metadata": {},
     "output_type": "execute_result"
    }
   ],
   "source": [
    "df.iloc[10,0]"
   ]
  },
  {
   "cell_type": "code",
   "execution_count": 19,
   "metadata": {},
   "outputs": [],
   "source": [
    "# This code is for v1 of the openai package: pypi.org/project/openai\n",
    "from openai import OpenAI\n",
    "from dotenv import load_dotenv, find_dotenv\n",
    "import os\n",
    "\n",
    "_ = load_dotenv(find_dotenv())\n",
    "openai_api_key = os.environ[\"OPENAI_API_KEY\"]\n",
    "\n",
    "client = OpenAI(api_key=openai_api_key)\n",
    "\n",
    "response = client.chat.completions.create(\n",
    "  model=\"gpt-4\",\n",
    "  messages=[\n",
    "    {\n",
    "      \"role\": \"system\",\n",
    "      \"content\": \"Você é um assistente que organiza itens de notas fiscais. \"\n",
    "    },\n",
    "    {\n",
    "      \"role\": \"user\",\n",
    "      \"content\": \"Para cada descrição oferecida, organize os dados em formato JSON, nos campos \\\"produto\\\", \\\"marca\\\", \\\"quantidade\\\", \\\"unidade\\\", \\\"apresentacao\\\" e \\\"observacao\\\".\\nComplete o nome do produto se estiver abreviado, utilizando a primeira letra maiúscula seguida de minúsculas. Remova quaisquer adjetivos ou descrições adicionais que não façam parte do nome do produto.\\nA marca deve ser preenchida apenas quando uma segunda entidade for mencionada de forma que possa ser interpretada como tal; caso contrário, deixe o campo \\\"marca\\\" vazio (\\\"\\\").\\nA \\\"quantidade\\\" deve refletir o peso total ou o conteúdo total de um único item ou pacote.\\nA \\\"unidade\\\" deve estar na unidade do SI correspondente (g, kg, etc.), quando aplicável.\\nSe a descrição mencionar um número de caixas ou pacotes, detalhe isso no campo \\\"apresentacao\\\" de forma apropriada (ex: \\\"pacote de 200g\\\", \\\"garrafa de 2l\\\").\\nCorrija abreviações de unidades de medida para suas formas corretas no SI (\\\"GR\\\", \\\"GRS\\\" para \\\"g\\\"; \\\"KGS\\\", \\\"KLS\\\" para \\\"kg\\\").\\nConverta números com vírgula para decimais em formato americano (com ponto).\\nSe um campo não puder ser preenchido com as informações fornecidas, use aspas duplas (\\\"\\\") para indicar a ausência de dados.\\nO campo \\\"observacao\\\" deve ser usado para qualquer informação adicional que não se encaixe nos outros campos.\\nNão adicione campos extras ao JSON. Qualquer informação adicional deve ser incluída no campo \\\"observacao\\\".\\n \\n### Descrição:\\nARROZ POLIDO AGULHINHA TIPO 01 REI DA PANELA 5KG\\n \\n### Resposta:\\n{row[\\\"estruturado\\\"]}\\n \\n### Fim\"\n",
    "    },\n",
    "    {\n",
    "      \"role\": \"assistant\",\n",
    "    #   \"content\": \"{\\n\\\"produto\\\": \\\"Arroz polido agulhinha tipo 01\\\",\\n\\\"marca\\\": \\\"Rei da Panela\\\",\\n\\\"quantidade\\\": \\\"5\\\",\\n\\\"unidade\\\": \\\"kg\\\",\\n\\\"apresentacao\\\": \\\"Pacote de 5kg\\\",\\n\\\"observacao\\\": \\\"\\\"\\n}\"\n",
    "      \"content\": df.iloc[10,0]\n",
    "    }\n",
    "  ],\n",
    "  temperature=0,\n",
    "  max_tokens=600,\n",
    "  top_p=1,\n",
    "  frequency_penalty=0,\n",
    "  presence_penalty=0\n",
    ")"
   ]
  },
  {
   "cell_type": "code",
   "execution_count": 20,
   "metadata": {},
   "outputs": [
    {
     "name": "stdout",
     "output_type": "stream",
     "text": [
      "{ \"produto\": \"Floco de milho\", \"marca\": \"\", \"quantidade\": \"\", \"unidade\": \"\", \"apresentacao\": \"\", \"observacao\": \"\" }\n"
     ]
    }
   ],
   "source": [
    "print(response.choices[0].message.content)"
   ]
  },
  {
   "cell_type": "code",
   "execution_count": 41,
   "metadata": {},
   "outputs": [],
   "source": [
    "from openai import OpenAI\n",
    "from dotenv import load_dotenv, find_dotenv\n",
    "import os\n",
    "\n",
    "_ = load_dotenv(find_dotenv())\n",
    "openai_api_key = os.environ[\"OPENAI_API_KEY\"]\n",
    "\n",
    "def nfe_parser_gpt(df):\n",
    "    client = OpenAI(api_key=openai_api_key)\n",
    "    \n",
    "    response_list = []\n",
    "    for item in df['text']:\n",
    "        response = client.chat.completions.create(\n",
    "            model=\"gpt-4\",\n",
    "            messages=[\n",
    "                {\n",
    "                \"role\": \"system\",\n",
    "                \"content\": \"Você é um assistente que organiza itens de notas fiscais. \"\n",
    "                },\n",
    "                {\n",
    "                \"role\": \"user\",\n",
    "                \"content\": \"Para cada descrição oferecida, organize os dados em formato JSON, nos campos \\\"produto\\\", \\\"marca\\\", \\\"quantidade\\\", \\\"unidade\\\", \\\"apresentacao\\\" e \\\"observacao\\\".\\nComplete o nome do produto se estiver abreviado, utilizando a primeira letra maiúscula seguida de minúsculas. Remova quaisquer adjetivos ou descrições adicionais que não façam parte do nome do produto.\\nA marca deve ser preenchida apenas quando uma segunda entidade for mencionada de forma que possa ser interpretada como tal; caso contrário, deixe o campo \\\"marca\\\" vazio (\\\"\\\").\\nA \\\"quantidade\\\" deve refletir o peso total ou o conteúdo total de um único item ou pacote.\\nA \\\"unidade\\\" deve estar na unidade do SI correspondente (g, kg, etc.), quando aplicável.\\nSe a descrição mencionar um número de caixas ou pacotes, detalhe isso no campo \\\"apresentacao\\\" de forma apropriada (ex: \\\"pacote de 200g\\\", \\\"garrafa de 2l\\\").\\nCorrija abreviações de unidades de medida para suas formas corretas no SI (\\\"GR\\\", \\\"GRS\\\" para \\\"g\\\"; \\\"KGS\\\", \\\"KLS\\\" para \\\"kg\\\").\\nConverta números com vírgula para decimais em formato americano (com ponto).\\nSe um campo não puder ser preenchido com as informações fornecidas, use aspas duplas (\\\"\\\") para indicar a ausência de dados.\\nO campo \\\"observacao\\\" deve ser usado para qualquer informação adicional que não se encaixe nos outros campos.\\nNão adicione campos extras ao JSON. Qualquer informação adicional deve ser incluída no campo \\\"observacao\\\".\\n \\n### Descrição:\\nARROZ POLIDO AGULHINHA TIPO 01 REI DA PANELA 5KG\\n \\n### Resposta:\\n{row[\\\"estruturado\\\"]}\\n \\n### Fim\"\n",
    "                },\n",
    "                {\n",
    "                \"role\": \"assistant\",\n",
    "                #   \"content\": \"{\\n\\\"produto\\\": \\\"Arroz polido agulhinha tipo 01\\\",\\n\\\"marca\\\": \\\"Rei da Panela\\\",\\n\\\"quantidade\\\": \\\"5\\\",\\n\\\"unidade\\\": \\\"kg\\\",\\n\\\"apresentacao\\\": \\\"Pacote de 5kg\\\",\\n\\\"observacao\\\": \\\"\\\"\\n}\"\n",
    "                \"content\": item\n",
    "                }\n",
    "            ],\n",
    "            temperature=0,\n",
    "            max_tokens=600,\n",
    "            top_p=1,\n",
    "            frequency_penalty=0,\n",
    "            presence_penalty=0\n",
    "        )\n",
    "        response_list.append(response.choices[0].message.content)\n",
    "    return response_list"
   ]
  },
  {
   "cell_type": "code",
   "execution_count": 42,
   "metadata": {},
   "outputs": [],
   "source": [
    "df_menor = df.head(3)\n",
    "response_list = nfe_parser_gpt(df_menor)"
   ]
  },
  {
   "cell_type": "code",
   "execution_count": 43,
   "metadata": {},
   "outputs": [
    {
     "data": {
      "text/plain": [
       "3"
      ]
     },
     "execution_count": 43,
     "metadata": {},
     "output_type": "execute_result"
    }
   ],
   "source": [
    "len(response_list)"
   ]
  },
  {
   "cell_type": "code",
   "execution_count": 48,
   "metadata": {},
   "outputs": [
    {
     "name": "stdout",
     "output_type": "stream",
     "text": [
      "['{\\n\"produto\": \"Arroz parbolizado\",\\n\"marca\": \"Blue Vile\",\\n\"quantidade\": \"1.0\",\\n\"unidade\": \"kg\",\\n\"apresentacao\": \"Pacote 1.0kg\",\\n\"observacao\": \"Longo fino tipo 1\"\\n}', '{\\n\"produto\": \"Biscoito Maizena\",\\n\"marca\": \"Mabel\",\\n\"quantidade\": \"400\",\\n\"unidade\": \"g\",\\n\"apresentacao\": \"Pacote de 400g\",\\n\"observacao\": \"\"\\n}', '{ \"produto\": \"Filé de Merluza\", \"marca\": \"\", \"quantidade\": \"\", \"unidade\": \"\", \"apresentacao\": \"Congelado\", \"observacao\": \"\" }']\n"
     ]
    }
   ],
   "source": [
    "print(response_list)"
   ]
  },
  {
   "cell_type": "code",
   "execution_count": 44,
   "metadata": {},
   "outputs": [
    {
     "name": "stdout",
     "output_type": "stream",
     "text": [
      "{\n",
      "\"produto\": \"Arroz parbolizado\",\n",
      "\"marca\": \"Blue Vile\",\n",
      "\"quantidade\": \"1.0\",\n",
      "\"unidade\": \"kg\",\n",
      "\"apresentacao\": \"Pacote 1.0kg\",\n",
      "\"observacao\": \"Longo fino tipo 1\"\n",
      "}\n",
      "------------------------\n",
      "{\n",
      "\"produto\": \"Biscoito Maizena\",\n",
      "\"marca\": \"Mabel\",\n",
      "\"quantidade\": \"400\",\n",
      "\"unidade\": \"g\",\n",
      "\"apresentacao\": \"Pacote de 400g\",\n",
      "\"observacao\": \"\"\n",
      "}\n",
      "------------------------\n",
      "{ \"produto\": \"Filé de Merluza\", \"marca\": \"\", \"quantidade\": \"\", \"unidade\": \"\", \"apresentacao\": \"Congelado\", \"observacao\": \"\" }\n",
      "------------------------\n"
     ]
    }
   ],
   "source": [
    "for item in response_list:\n",
    "    print(item)\n",
    "    print('------------------------')"
   ]
  },
  {
   "cell_type": "code",
   "execution_count": 49,
   "metadata": {},
   "outputs": [
    {
     "data": {
      "text/plain": [
       "[{'produto': 'Arroz parbolizado',\n",
       "  'marca': 'Blue Vile',\n",
       "  'quantidade': '1.0',\n",
       "  'unidade': 'kg',\n",
       "  'apresentacao': 'Pacote 1.0kg',\n",
       "  'observacao': 'Longo fino tipo 1'},\n",
       " {'produto': 'Biscoito Maizena',\n",
       "  'marca': 'Mabel',\n",
       "  'quantidade': '400',\n",
       "  'unidade': 'g',\n",
       "  'apresentacao': 'Pacote de 400g',\n",
       "  'observacao': ''},\n",
       " {'produto': 'Filé de Merluza',\n",
       "  'marca': '',\n",
       "  'quantidade': '',\n",
       "  'unidade': '',\n",
       "  'apresentacao': 'Congelado',\n",
       "  'observacao': ''}]"
      ]
     },
     "execution_count": 49,
     "metadata": {},
     "output_type": "execute_result"
    }
   ],
   "source": [
    "# Convertendo as strings para dicionários usando json.loads\n",
    "import json\n",
    "list_of_dicts = [json.loads(d) for d in response_list]\n",
    "list_of_dicts\n"
   ]
  },
  {
   "cell_type": "code",
   "execution_count": 50,
   "metadata": {},
   "outputs": [
    {
     "data": {
      "text/html": [
       "<div>\n",
       "<style scoped>\n",
       "    .dataframe tbody tr th:only-of-type {\n",
       "        vertical-align: middle;\n",
       "    }\n",
       "\n",
       "    .dataframe tbody tr th {\n",
       "        vertical-align: top;\n",
       "    }\n",
       "\n",
       "    .dataframe thead th {\n",
       "        text-align: right;\n",
       "    }\n",
       "</style>\n",
       "<table border=\"1\" class=\"dataframe\">\n",
       "  <thead>\n",
       "    <tr style=\"text-align: right;\">\n",
       "      <th></th>\n",
       "      <th>produto</th>\n",
       "      <th>marca</th>\n",
       "      <th>quantidade</th>\n",
       "      <th>unidade</th>\n",
       "      <th>apresentacao</th>\n",
       "      <th>observacao</th>\n",
       "    </tr>\n",
       "  </thead>\n",
       "  <tbody>\n",
       "    <tr>\n",
       "      <th>0</th>\n",
       "      <td>Arroz parbolizado</td>\n",
       "      <td>Blue Vile</td>\n",
       "      <td>1.0</td>\n",
       "      <td>kg</td>\n",
       "      <td>Pacote 1.0kg</td>\n",
       "      <td>Longo fino tipo 1</td>\n",
       "    </tr>\n",
       "    <tr>\n",
       "      <th>1</th>\n",
       "      <td>Biscoito Maizena</td>\n",
       "      <td>Mabel</td>\n",
       "      <td>400</td>\n",
       "      <td>g</td>\n",
       "      <td>Pacote de 400g</td>\n",
       "      <td></td>\n",
       "    </tr>\n",
       "    <tr>\n",
       "      <th>2</th>\n",
       "      <td>Filé de Merluza</td>\n",
       "      <td></td>\n",
       "      <td></td>\n",
       "      <td></td>\n",
       "      <td>Congelado</td>\n",
       "      <td></td>\n",
       "    </tr>\n",
       "  </tbody>\n",
       "</table>\n",
       "</div>"
      ],
      "text/plain": [
       "             produto      marca quantidade unidade    apresentacao  \\\n",
       "0  Arroz parbolizado  Blue Vile        1.0      kg    Pacote 1.0kg   \n",
       "1   Biscoito Maizena      Mabel        400       g  Pacote de 400g   \n",
       "2    Filé de Merluza                                     Congelado   \n",
       "\n",
       "          observacao  \n",
       "0  Longo fino tipo 1  \n",
       "1                     \n",
       "2                     "
      ]
     },
     "execution_count": 50,
     "metadata": {},
     "output_type": "execute_result"
    }
   ],
   "source": [
    "# Cria o Dataframe a partir da lista de dicionários\n",
    "df_response = pd.DataFrame(list_of_dicts)\n",
    "df_response"
   ]
  },
  {
   "cell_type": "code",
   "execution_count": 52,
   "metadata": {},
   "outputs": [],
   "source": [
    "# Salva o dataframe em um arquivo parquet\n",
    "df_response.to_parquet('../data/nfe_produto_1000_estruturado_anotado_test.parquet')"
   ]
  },
  {
   "cell_type": "code",
   "execution_count": null,
   "metadata": {},
   "outputs": [],
   "source": [
    "# Testando a leitura do arquivo parquet\n",
    "df_from_parquet = pd.read_parquet('../data/nfe_produto_1000_estruturado_anotado_test.parquet')\n",
    "df_from_parquet.head()"
   ]
  }
 ],
 "metadata": {
  "kernelspec": {
   "display_name": ".venv",
   "language": "python",
   "name": "python3"
  },
  "language_info": {
   "codemirror_mode": {
    "name": "ipython",
    "version": 3
   },
   "file_extension": ".py",
   "mimetype": "text/x-python",
   "name": "python",
   "nbconvert_exporter": "python",
   "pygments_lexer": "ipython3",
   "version": "3.12.0"
  }
 },
 "nbformat": 4,
 "nbformat_minor": 2
}
