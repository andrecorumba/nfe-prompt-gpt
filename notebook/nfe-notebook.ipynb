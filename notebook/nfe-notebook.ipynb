{
 "cells": [
  {
   "cell_type": "markdown",
   "metadata": {},
   "source": [
    "# NFe Prompt Parser"
   ]
  },
  {
   "cell_type": "markdown",
   "metadata": {},
   "source": [
    "# Import Libraries"
   ]
  },
  {
   "cell_type": "code",
   "execution_count": 88,
   "metadata": {},
   "outputs": [],
   "source": [
    "import pandas as pd\n",
    "from openai import OpenAI\n",
    "from dotenv import load_dotenv, find_dotenv\n",
    "import os\n",
    "import json\n",
    "import time"
   ]
  },
  {
   "cell_type": "markdown",
   "metadata": {},
   "source": [
    "## Load Data"
   ]
  },
  {
   "cell_type": "code",
   "execution_count": 89,
   "metadata": {},
   "outputs": [
    {
     "data": {
      "text/html": [
       "<div>\n",
       "<style scoped>\n",
       "    .dataframe tbody tr th:only-of-type {\n",
       "        vertical-align: middle;\n",
       "    }\n",
       "\n",
       "    .dataframe tbody tr th {\n",
       "        vertical-align: top;\n",
       "    }\n",
       "\n",
       "    .dataframe thead th {\n",
       "        text-align: right;\n",
       "    }\n",
       "</style>\n",
       "<table border=\"1\" class=\"dataframe\">\n",
       "  <thead>\n",
       "    <tr style=\"text-align: right;\">\n",
       "      <th></th>\n",
       "      <th>text</th>\n",
       "    </tr>\n",
       "  </thead>\n",
       "  <tbody>\n",
       "    <tr>\n",
       "      <th>0</th>\n",
       "      <td>ARROZ PARBOLIZADO,LONGO FINO T1,PCT 1.0KG,BLUE...</td>\n",
       "    </tr>\n",
       "    <tr>\n",
       "      <th>1</th>\n",
       "      <td>BISCOITO MAISENA C/ 400G - MABEL</td>\n",
       "    </tr>\n",
       "    <tr>\n",
       "      <th>2</th>\n",
       "      <td>FILé DE MERLUZA CONG.</td>\n",
       "    </tr>\n",
       "    <tr>\n",
       "      <th>3</th>\n",
       "      <td>AçúCAR CRISTAL PINDORAMA FD30X1KG</td>\n",
       "    </tr>\n",
       "    <tr>\n",
       "      <th>4</th>\n",
       "      <td>MINGAU DE MILHO VERDE COM CòCO</td>\n",
       "    </tr>\n",
       "  </tbody>\n",
       "</table>\n",
       "</div>"
      ],
      "text/plain": [
       "                                                text\n",
       "0  ARROZ PARBOLIZADO,LONGO FINO T1,PCT 1.0KG,BLUE...\n",
       "1                   BISCOITO MAISENA C/ 400G - MABEL\n",
       "2                              FILé DE MERLUZA CONG.\n",
       "3                  AçúCAR CRISTAL PINDORAMA FD30X1KG\n",
       "4                     MINGAU DE MILHO VERDE COM CòCO"
      ]
     },
     "execution_count": 89,
     "metadata": {},
     "output_type": "execute_result"
    }
   ],
   "source": [
    "df = pd.read_csv(\"../data/nfe_produto_1000_estruturado_anotado_test.csv\")\n",
    "df.head()"
   ]
  },
  {
   "cell_type": "markdown",
   "metadata": {},
   "source": [
    "## NFe Parser Function"
   ]
  },
  {
   "cell_type": "code",
   "execution_count": 90,
   "metadata": {},
   "outputs": [],
   "source": [
    "def nfe_parser_gpt(df, openai_model=\"gpt-4\"):\n",
    "    '''Function to parse NFE descriptions into structured JSON format using GPT-4'''\n",
    "\n",
    "    # Load OpenAI API key from .env file\n",
    "    _ = load_dotenv(find_dotenv())\n",
    "    openai_api_key = os.environ[\"OPENAI_API_KEY\"]\n",
    "\n",
    "    client = OpenAI(api_key=openai_api_key)\n",
    "    \n",
    "    response_list = []\n",
    "    for item in df['text']:\n",
    "        response = client.chat.completions.create(\n",
    "            model=openai_model,\n",
    "            messages=[\n",
    "                {\n",
    "                \"role\": \"system\",\n",
    "                \"content\": \"Você é um assistente que organiza itens de notas fiscais. \"\n",
    "                },\n",
    "                {\n",
    "                \"role\": \"user\",\n",
    "                \"content\": \"Para cada descrição oferecida, organize os dados em formato JSON, nos campos \\\"produto\\\", \\\"marca\\\", \\\"quantidade\\\", \\\"unidade\\\", \\\"apresentacao\\\" e \\\"observacao\\\".\\nComplete o nome do produto se estiver abreviado, utilizando a primeira letra maiúscula seguida de minúsculas. Remova quaisquer adjetivos ou descrições adicionais que não façam parte do nome do produto.\\nA marca deve ser preenchida apenas quando uma segunda entidade for mencionada de forma que possa ser interpretada como tal; caso contrário, deixe o campo \\\"marca\\\" vazio (\\\"\\\").\\nA \\\"quantidade\\\" deve refletir o peso total ou o conteúdo total de um único item ou pacote.\\nA \\\"unidade\\\" deve estar na unidade do SI correspondente (g, kg, etc.), quando aplicável.\\nSe a descrição mencionar um número de caixas ou pacotes, detalhe isso no campo \\\"apresentacao\\\" de forma apropriada (ex: \\\"pacote de 200g\\\", \\\"garrafa de 2l\\\").\\nCorrija abreviações de unidades de medida para suas formas corretas no SI (\\\"GR\\\", \\\"GRS\\\" para \\\"g\\\"; \\\"KGS\\\", \\\"KLS\\\" para \\\"kg\\\").\\nConverta números com vírgula para decimais em formato americano (com ponto).\\nSe um campo não puder ser preenchido com as informações fornecidas, use aspas duplas (\\\"\\\") para indicar a ausência de dados.\\nO campo \\\"observacao\\\" deve ser usado para qualquer informação adicional que não se encaixe nos outros campos.\\nNão adicione campos extras ao JSON. Qualquer informação adicional deve ser incluída no campo \\\"observacao\\\".\\n \\n### Descrição:\\nARROZ POLIDO AGULHINHA TIPO 01 REI DA PANELA 5KG\\n \\n### Resposta:\\n{row[\\\"estruturado\\\"]}\\n \\n### Fim\"\n",
    "                },\n",
    "                {\n",
    "                \"role\": \"assistant\",\n",
    "                \"content\": item\n",
    "                }\n",
    "            ],\n",
    "            temperature=0,\n",
    "            max_tokens=600,\n",
    "            top_p=1,\n",
    "            frequency_penalty=0,\n",
    "            presence_penalty=0\n",
    "        )\n",
    "        response_list.append(response.choices[0].message.content)\n",
    "        time.sleep(1)\n",
    "    return response_list"
   ]
  },
  {
   "cell_type": "markdown",
   "metadata": {},
   "source": [
    "## Test of NFe Parser with a little dataframe"
   ]
  },
  {
   "cell_type": "code",
   "execution_count": 66,
   "metadata": {},
   "outputs": [
    {
     "name": "stdout",
     "output_type": "stream",
     "text": [
      "Lenght of response_list:  3\n",
      "{\n",
      "\"produto\": \"Arroz parbolizado\",\n",
      "\"marca\": \"Blue Vile\",\n",
      "\"quantidade\": \"1.0\",\n",
      "\"unidade\": \"kg\",\n",
      "\"apresentacao\": \"Pacote 1.0kg\",\n",
      "\"observacao\": \"Longo fino tipo 1\"\n",
      "}\n",
      "------------------------\n",
      "{\n",
      "\"produto\": \"Biscoito Maizena\",\n",
      "\"marca\": \"Mabel\",\n",
      "\"quantidade\": 400,\n",
      "\"unidade\": \"g\",\n",
      "\"apresentacao\": \"Pacote de 400g\",\n",
      "\"observacao\": \"\"\n",
      "}\n",
      "------------------------\n",
      "{ \"produto\": \"Filé de Merluza\", \"marca\": \"\", \"quantidade\": \"\", \"unidade\": \"\", \"apresentacao\": \"Congelado\", \"observacao\": \"\" }\n",
      "------------------------\n"
     ]
    }
   ],
   "source": [
    "df_littler = df.head(3)\n",
    "openai_model = \"gpt-4\"\n",
    "#openai_model = \"gpt-3.5-turbo-1106\"\n",
    "response_list = nfe_parser_gpt(df_littler, openai_model)\n",
    "\n",
    "print(\"Lenght of response_list: \",len(response_list))\n",
    "\n",
    "for item in response_list:\n",
    "    print(item)\n",
    "    print('------------------------')"
   ]
  },
  {
   "cell_type": "markdown",
   "metadata": {},
   "source": [
    "## Use NFe Parser\n",
    "### RUN ONLY IF YOU ARE SURE"
   ]
  },
  {
   "cell_type": "code",
   "execution_count": 91,
   "metadata": {},
   "outputs": [
    {
     "name": "stdout",
     "output_type": "stream",
     "text": [
      "Lenght of response_list:  100\n",
      "{\n",
      "\"produto\": \"Arroz parbolizado\",\n",
      "\"marca\": \"Blue Vile\",\n",
      "\"quantidade\": \"1.0\",\n",
      "\"unidade\": \"kg\",\n",
      "\"apresentacao\": \"Pacote 1.0kg\",\n",
      "\"observacao\": \"Longo fino tipo 1\"\n",
      "}\n"
     ]
    }
   ],
   "source": [
    "# To select the model, change the variable openai_model\n",
    "openai_model = \"gpt-4\"\n",
    "# openai_model = \"gpt-3.5-turbo-1106\"\n",
    "\n",
    "response_list = nfe_parser_gpt(df, openai_model)\n",
    "\n",
    "print(\"Lenght of response_list: \",len(response_list))\n",
    "print(response_list[0])"
   ]
  },
  {
   "cell_type": "markdown",
   "metadata": {},
   "source": [
    "## JSON dump"
   ]
  },
  {
   "cell_type": "code",
   "execution_count": 92,
   "metadata": {},
   "outputs": [],
   "source": [
    "# Dump the response_list into a JSON file\n",
    "with open(f'../data/nfe_produto_1000_estruturado_anotado_test_{openai_model}.json', 'w') as f:\n",
    "    json.dump(response_list, f)"
   ]
  },
  {
   "cell_type": "markdown",
   "metadata": {},
   "source": [
    "## Load JSON file dumped with error correct"
   ]
  },
  {
   "cell_type": "code",
   "execution_count": 103,
   "metadata": {},
   "outputs": [],
   "source": [
    "# Load the JSON file\n",
    "#openai_model = \"gpt-3.5-turbo-1106\"\n",
    "with open(f'../data/nfe_produto_1000_estruturado_anotado_test_{openai_model}.json') as f:\n",
    "    response_list = json.load(f)"
   ]
  },
  {
   "cell_type": "markdown",
   "metadata": {},
   "source": [
    "## Convert JSON Response to Python dictionary"
   ]
  },
  {
   "cell_type": "code",
   "execution_count": 104,
   "metadata": {},
   "outputs": [],
   "source": [
    "# Convert JSON strings from response_list to Python dictionaries\n",
    "# list_of_dicts = [json.loads(d) for d in response_list]\n",
    "# list_of_dicts\n",
    "\n",
    "list_of_dicts = []\n",
    "\n",
    "for d in response_list:\n",
    "    try:\n",
    "        dict_item = json.loads(d)\n",
    "        list_of_dicts.append(dict_item)\n",
    "    except json.JSONDecodeError as e:\n",
    "        print(f\"Error decoding JSON: {e} in string: {d}\")\n",
    "        # Handle the error or skip the item\n"
   ]
  },
  {
   "cell_type": "markdown",
   "metadata": {},
   "source": [
    "## Create Response Datafreme "
   ]
  },
  {
   "cell_type": "code",
   "execution_count": 105,
   "metadata": {},
   "outputs": [
    {
     "data": {
      "text/html": [
       "<div>\n",
       "<style scoped>\n",
       "    .dataframe tbody tr th:only-of-type {\n",
       "        vertical-align: middle;\n",
       "    }\n",
       "\n",
       "    .dataframe tbody tr th {\n",
       "        vertical-align: top;\n",
       "    }\n",
       "\n",
       "    .dataframe thead th {\n",
       "        text-align: right;\n",
       "    }\n",
       "</style>\n",
       "<table border=\"1\" class=\"dataframe\">\n",
       "  <thead>\n",
       "    <tr style=\"text-align: right;\">\n",
       "      <th></th>\n",
       "      <th>produto</th>\n",
       "      <th>marca</th>\n",
       "      <th>quantidade</th>\n",
       "      <th>unidade</th>\n",
       "      <th>apresentacao</th>\n",
       "      <th>observacao</th>\n",
       "    </tr>\n",
       "  </thead>\n",
       "  <tbody>\n",
       "    <tr>\n",
       "      <th>0</th>\n",
       "      <td>Arroz Parbolizado</td>\n",
       "      <td>Blue Vile</td>\n",
       "      <td>1.0</td>\n",
       "      <td>kg</td>\n",
       "      <td>pacote de 1.0kg</td>\n",
       "      <td>Longo Fino T1</td>\n",
       "    </tr>\n",
       "    <tr>\n",
       "      <th>1</th>\n",
       "      <td>Biscoito Maisena</td>\n",
       "      <td>Mabel</td>\n",
       "      <td>400</td>\n",
       "      <td>g</td>\n",
       "      <td></td>\n",
       "      <td></td>\n",
       "    </tr>\n",
       "    <tr>\n",
       "      <th>2</th>\n",
       "      <td>Filé de Merluza</td>\n",
       "      <td></td>\n",
       "      <td>1</td>\n",
       "      <td>unidade</td>\n",
       "      <td>pacote</td>\n",
       "      <td>Congelado</td>\n",
       "    </tr>\n",
       "    <tr>\n",
       "      <th>3</th>\n",
       "      <td>Açúcar Cristal</td>\n",
       "      <td>Pindorama</td>\n",
       "      <td>30</td>\n",
       "      <td>kg</td>\n",
       "      <td>pacote de 1kg</td>\n",
       "      <td></td>\n",
       "    </tr>\n",
       "    <tr>\n",
       "      <th>4</th>\n",
       "      <td>Mingau de Milho Verde</td>\n",
       "      <td></td>\n",
       "      <td>1</td>\n",
       "      <td>unidade</td>\n",
       "      <td></td>\n",
       "      <td>com côco</td>\n",
       "    </tr>\n",
       "    <tr>\n",
       "      <th>...</th>\n",
       "      <td>...</td>\n",
       "      <td>...</td>\n",
       "      <td>...</td>\n",
       "      <td>...</td>\n",
       "      <td>...</td>\n",
       "      <td>...</td>\n",
       "    </tr>\n",
       "    <tr>\n",
       "      <th>95</th>\n",
       "      <td>Frutti Life Uva</td>\n",
       "      <td></td>\n",
       "      <td>1</td>\n",
       "      <td>l</td>\n",
       "      <td></td>\n",
       "      <td>Sem açúcar</td>\n",
       "    </tr>\n",
       "    <tr>\n",
       "      <th>96</th>\n",
       "      <td>Colorífico</td>\n",
       "      <td>São Marcos</td>\n",
       "      <td>100</td>\n",
       "      <td>g</td>\n",
       "      <td></td>\n",
       "      <td></td>\n",
       "    </tr>\n",
       "    <tr>\n",
       "      <th>97</th>\n",
       "      <td>Queijo ralado</td>\n",
       "      <td>Zaeli</td>\n",
       "      <td>50</td>\n",
       "      <td>g</td>\n",
       "      <td></td>\n",
       "      <td></td>\n",
       "    </tr>\n",
       "    <tr>\n",
       "      <th>98</th>\n",
       "      <td>Fermento</td>\n",
       "      <td>Fleischmann</td>\n",
       "      <td>450</td>\n",
       "      <td>g</td>\n",
       "      <td></td>\n",
       "      <td>PF</td>\n",
       "    </tr>\n",
       "    <tr>\n",
       "      <th>99</th>\n",
       "      <td>Carne de frango peito</td>\n",
       "      <td></td>\n",
       "      <td>1</td>\n",
       "      <td>kg</td>\n",
       "      <td></td>\n",
       "      <td>Com osso</td>\n",
       "    </tr>\n",
       "  </tbody>\n",
       "</table>\n",
       "<p>100 rows × 6 columns</p>\n",
       "</div>"
      ],
      "text/plain": [
       "                  produto        marca quantidade  unidade     apresentacao  \\\n",
       "0       Arroz Parbolizado    Blue Vile        1.0       kg  pacote de 1.0kg   \n",
       "1        Biscoito Maisena        Mabel        400        g                    \n",
       "2         Filé de Merluza                       1  unidade           pacote   \n",
       "3          Açúcar Cristal    Pindorama         30       kg    pacote de 1kg   \n",
       "4   Mingau de Milho Verde                       1  unidade                    \n",
       "..                    ...          ...        ...      ...              ...   \n",
       "95        Frutti Life Uva                       1        l                    \n",
       "96             Colorífico   São Marcos        100        g                    \n",
       "97          Queijo ralado        Zaeli         50        g                    \n",
       "98               Fermento  Fleischmann        450        g                    \n",
       "99  Carne de frango peito                       1       kg                    \n",
       "\n",
       "       observacao  \n",
       "0   Longo Fino T1  \n",
       "1                  \n",
       "2       Congelado  \n",
       "3                  \n",
       "4        com côco  \n",
       "..            ...  \n",
       "95     Sem açúcar  \n",
       "96                 \n",
       "97                 \n",
       "98             PF  \n",
       "99       Com osso  \n",
       "\n",
       "[100 rows x 6 columns]"
      ]
     },
     "execution_count": 105,
     "metadata": {},
     "output_type": "execute_result"
    }
   ],
   "source": [
    "# Create a pandas DataFrame from list_of_dicts\n",
    "df_response = pd.DataFrame(list_of_dicts)\n",
    "df_response['quantidade'] = df_response['quantidade'].astype(str)\n",
    "df_response"
   ]
  },
  {
   "cell_type": "markdown",
   "metadata": {},
   "source": [
    "## Save DataFrame to Parquet File"
   ]
  },
  {
   "cell_type": "code",
   "execution_count": 106,
   "metadata": {},
   "outputs": [],
   "source": [
    "# Save DataFrame to parquet file\n",
    "parquet_file_name = f'../data/nfe_produto_1000_estruturado_anotado_test_{openai_model}.parquet'\n",
    "df_response.to_parquet(parquet_file_name)"
   ]
  },
  {
   "cell_type": "markdown",
   "metadata": {},
   "source": [
    "## Teste Parquet File in a new DataFrame"
   ]
  },
  {
   "cell_type": "code",
   "execution_count": 107,
   "metadata": {},
   "outputs": [
    {
     "data": {
      "text/html": [
       "<div>\n",
       "<style scoped>\n",
       "    .dataframe tbody tr th:only-of-type {\n",
       "        vertical-align: middle;\n",
       "    }\n",
       "\n",
       "    .dataframe tbody tr th {\n",
       "        vertical-align: top;\n",
       "    }\n",
       "\n",
       "    .dataframe thead th {\n",
       "        text-align: right;\n",
       "    }\n",
       "</style>\n",
       "<table border=\"1\" class=\"dataframe\">\n",
       "  <thead>\n",
       "    <tr style=\"text-align: right;\">\n",
       "      <th></th>\n",
       "      <th>produto</th>\n",
       "      <th>marca</th>\n",
       "      <th>quantidade</th>\n",
       "      <th>unidade</th>\n",
       "      <th>apresentacao</th>\n",
       "      <th>observacao</th>\n",
       "    </tr>\n",
       "  </thead>\n",
       "  <tbody>\n",
       "    <tr>\n",
       "      <th>0</th>\n",
       "      <td>Arroz Parbolizado</td>\n",
       "      <td>Blue Vile</td>\n",
       "      <td>1.0</td>\n",
       "      <td>kg</td>\n",
       "      <td>pacote de 1.0kg</td>\n",
       "      <td>Longo Fino T1</td>\n",
       "    </tr>\n",
       "    <tr>\n",
       "      <th>1</th>\n",
       "      <td>Biscoito Maisena</td>\n",
       "      <td>Mabel</td>\n",
       "      <td>400</td>\n",
       "      <td>g</td>\n",
       "      <td></td>\n",
       "      <td></td>\n",
       "    </tr>\n",
       "    <tr>\n",
       "      <th>2</th>\n",
       "      <td>Filé de Merluza</td>\n",
       "      <td></td>\n",
       "      <td>1</td>\n",
       "      <td>unidade</td>\n",
       "      <td>pacote</td>\n",
       "      <td>Congelado</td>\n",
       "    </tr>\n",
       "    <tr>\n",
       "      <th>3</th>\n",
       "      <td>Açúcar Cristal</td>\n",
       "      <td>Pindorama</td>\n",
       "      <td>30</td>\n",
       "      <td>kg</td>\n",
       "      <td>pacote de 1kg</td>\n",
       "      <td></td>\n",
       "    </tr>\n",
       "    <tr>\n",
       "      <th>4</th>\n",
       "      <td>Mingau de Milho Verde</td>\n",
       "      <td></td>\n",
       "      <td>1</td>\n",
       "      <td>unidade</td>\n",
       "      <td></td>\n",
       "      <td>com côco</td>\n",
       "    </tr>\n",
       "  </tbody>\n",
       "</table>\n",
       "</div>"
      ],
      "text/plain": [
       "                 produto      marca quantidade  unidade     apresentacao  \\\n",
       "0      Arroz Parbolizado  Blue Vile        1.0       kg  pacote de 1.0kg   \n",
       "1       Biscoito Maisena      Mabel        400        g                    \n",
       "2        Filé de Merluza                     1  unidade           pacote   \n",
       "3         Açúcar Cristal  Pindorama         30       kg    pacote de 1kg   \n",
       "4  Mingau de Milho Verde                     1  unidade                    \n",
       "\n",
       "      observacao  \n",
       "0  Longo Fino T1  \n",
       "1                 \n",
       "2      Congelado  \n",
       "3                 \n",
       "4       com côco  "
      ]
     },
     "execution_count": 107,
     "metadata": {},
     "output_type": "execute_result"
    }
   ],
   "source": [
    "# Testando a leitura do arquivo parquet\n",
    "df_from_parquet = pd.read_parquet(parquet_file_name)\n",
    "df_from_parquet.head()"
   ]
  },
  {
   "cell_type": "code",
   "execution_count": 108,
   "metadata": {},
   "outputs": [
    {
     "name": "stdout",
     "output_type": "stream",
     "text": [
      "98\n",
      "100\n"
     ]
    }
   ],
   "source": [
    "# Test length of parquet file\n",
    "df_gpt4 = pd.read_parquet('../data/nfe_produto_1000_estruturado_anotado_test_gpt-4.parquet')\n",
    "gpt_3_5 = pd.read_parquet('../data/nfe_produto_1000_estruturado_anotado_test_gpt-3.5-turbo-1106.parquet')\n",
    "print(len(df_gpt4))\n",
    "print(len(gpt_3_5))"
   ]
  }
 ],
 "metadata": {
  "kernelspec": {
   "display_name": ".venv",
   "language": "python",
   "name": "python3"
  },
  "language_info": {
   "codemirror_mode": {
    "name": "ipython",
    "version": 3
   },
   "file_extension": ".py",
   "mimetype": "text/x-python",
   "name": "python",
   "nbconvert_exporter": "python",
   "pygments_lexer": "ipython3",
   "version": "3.12.0"
  }
 },
 "nbformat": 4,
 "nbformat_minor": 2
}
