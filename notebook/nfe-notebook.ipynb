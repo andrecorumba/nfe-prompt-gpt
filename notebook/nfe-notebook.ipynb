{
 "cells": [
  {
   "cell_type": "markdown",
   "metadata": {},
   "source": [
    "# NFe Prompt Parser"
   ]
  },
  {
   "cell_type": "markdown",
   "metadata": {},
   "source": [
    "# Import Libraries"
   ]
  },
  {
   "cell_type": "code",
   "execution_count": 54,
   "metadata": {},
   "outputs": [],
   "source": [
    "import pandas as pd\n",
    "from openai import OpenAI\n",
    "from dotenv import load_dotenv, find_dotenv\n",
    "import os\n",
    "import json"
   ]
  },
  {
   "cell_type": "markdown",
   "metadata": {},
   "source": [
    "## Load Data"
   ]
  },
  {
   "cell_type": "code",
   "execution_count": 55,
   "metadata": {},
   "outputs": [
    {
     "data": {
      "text/html": [
       "<div>\n",
       "<style scoped>\n",
       "    .dataframe tbody tr th:only-of-type {\n",
       "        vertical-align: middle;\n",
       "    }\n",
       "\n",
       "    .dataframe tbody tr th {\n",
       "        vertical-align: top;\n",
       "    }\n",
       "\n",
       "    .dataframe thead th {\n",
       "        text-align: right;\n",
       "    }\n",
       "</style>\n",
       "<table border=\"1\" class=\"dataframe\">\n",
       "  <thead>\n",
       "    <tr style=\"text-align: right;\">\n",
       "      <th></th>\n",
       "      <th>text</th>\n",
       "    </tr>\n",
       "  </thead>\n",
       "  <tbody>\n",
       "    <tr>\n",
       "      <th>0</th>\n",
       "      <td>ARROZ PARBOLIZADO,LONGO FINO T1,PCT 1.0KG,BLUE...</td>\n",
       "    </tr>\n",
       "    <tr>\n",
       "      <th>1</th>\n",
       "      <td>BISCOITO MAISENA C/ 400G - MABEL</td>\n",
       "    </tr>\n",
       "    <tr>\n",
       "      <th>2</th>\n",
       "      <td>FILé DE MERLUZA CONG.</td>\n",
       "    </tr>\n",
       "    <tr>\n",
       "      <th>3</th>\n",
       "      <td>AçúCAR CRISTAL PINDORAMA FD30X1KG</td>\n",
       "    </tr>\n",
       "    <tr>\n",
       "      <th>4</th>\n",
       "      <td>MINGAU DE MILHO VERDE COM CòCO</td>\n",
       "    </tr>\n",
       "  </tbody>\n",
       "</table>\n",
       "</div>"
      ],
      "text/plain": [
       "                                                text\n",
       "0  ARROZ PARBOLIZADO,LONGO FINO T1,PCT 1.0KG,BLUE...\n",
       "1                   BISCOITO MAISENA C/ 400G - MABEL\n",
       "2                              FILé DE MERLUZA CONG.\n",
       "3                  AçúCAR CRISTAL PINDORAMA FD30X1KG\n",
       "4                     MINGAU DE MILHO VERDE COM CòCO"
      ]
     },
     "execution_count": 55,
     "metadata": {},
     "output_type": "execute_result"
    }
   ],
   "source": [
    "df = pd.read_csv(\"../data/nfe_produto_1000_estruturado_anotado_test.csv\")\n",
    "df.head()"
   ]
  },
  {
   "cell_type": "markdown",
   "metadata": {},
   "source": [
    "## NFe Parser Function"
   ]
  },
  {
   "cell_type": "code",
   "execution_count": 56,
   "metadata": {},
   "outputs": [],
   "source": [
    "def nfe_parser_gpt(df, openai_model=\"gpt-4\"):\n",
    "    '''Function to parse NFE descriptions into structured JSON format using GPT-4'''\n",
    "\n",
    "    # Load OpenAI API key from .env file\n",
    "    _ = load_dotenv(find_dotenv())\n",
    "    openai_api_key = os.environ[\"OPENAI_API_KEY\"]\n",
    "\n",
    "    client = OpenAI(api_key=openai_api_key)\n",
    "    \n",
    "    response_list = []\n",
    "    for item in df['text']:\n",
    "        response = client.chat.completions.create(\n",
    "            model=openai_model,\n",
    "            messages=[\n",
    "                {\n",
    "                \"role\": \"system\",\n",
    "                \"content\": \"Você é um assistente que organiza itens de notas fiscais. \"\n",
    "                },\n",
    "                {\n",
    "                \"role\": \"user\",\n",
    "                \"content\": \"Para cada descrição oferecida, organize os dados em formato JSON, nos campos \\\"produto\\\", \\\"marca\\\", \\\"quantidade\\\", \\\"unidade\\\", \\\"apresentacao\\\" e \\\"observacao\\\".\\nComplete o nome do produto se estiver abreviado, utilizando a primeira letra maiúscula seguida de minúsculas. Remova quaisquer adjetivos ou descrições adicionais que não façam parte do nome do produto.\\nA marca deve ser preenchida apenas quando uma segunda entidade for mencionada de forma que possa ser interpretada como tal; caso contrário, deixe o campo \\\"marca\\\" vazio (\\\"\\\").\\nA \\\"quantidade\\\" deve refletir o peso total ou o conteúdo total de um único item ou pacote.\\nA \\\"unidade\\\" deve estar na unidade do SI correspondente (g, kg, etc.), quando aplicável.\\nSe a descrição mencionar um número de caixas ou pacotes, detalhe isso no campo \\\"apresentacao\\\" de forma apropriada (ex: \\\"pacote de 200g\\\", \\\"garrafa de 2l\\\").\\nCorrija abreviações de unidades de medida para suas formas corretas no SI (\\\"GR\\\", \\\"GRS\\\" para \\\"g\\\"; \\\"KGS\\\", \\\"KLS\\\" para \\\"kg\\\").\\nConverta números com vírgula para decimais em formato americano (com ponto).\\nSe um campo não puder ser preenchido com as informações fornecidas, use aspas duplas (\\\"\\\") para indicar a ausência de dados.\\nO campo \\\"observacao\\\" deve ser usado para qualquer informação adicional que não se encaixe nos outros campos.\\nNão adicione campos extras ao JSON. Qualquer informação adicional deve ser incluída no campo \\\"observacao\\\".\\n \\n### Descrição:\\nARROZ POLIDO AGULHINHA TIPO 01 REI DA PANELA 5KG\\n \\n### Resposta:\\n{row[\\\"estruturado\\\"]}\\n \\n### Fim\"\n",
    "                },\n",
    "                {\n",
    "                \"role\": \"assistant\",\n",
    "                \"content\": item\n",
    "                }\n",
    "            ],\n",
    "            temperature=0,\n",
    "            max_tokens=600,\n",
    "            top_p=1,\n",
    "            frequency_penalty=0,\n",
    "            presence_penalty=0\n",
    "        )\n",
    "        response_list.append(response.choices[0].message.content)\n",
    "    return response_list"
   ]
  },
  {
   "cell_type": "markdown",
   "metadata": {},
   "source": [
    "## Test of NFe Parser with a little dataframe"
   ]
  },
  {
   "cell_type": "code",
   "execution_count": 66,
   "metadata": {},
   "outputs": [
    {
     "name": "stdout",
     "output_type": "stream",
     "text": [
      "Lenght of response_list:  3\n",
      "{\n",
      "\"produto\": \"Arroz parbolizado\",\n",
      "\"marca\": \"Blue Vile\",\n",
      "\"quantidade\": \"1.0\",\n",
      "\"unidade\": \"kg\",\n",
      "\"apresentacao\": \"Pacote 1.0kg\",\n",
      "\"observacao\": \"Longo fino tipo 1\"\n",
      "}\n",
      "------------------------\n",
      "{\n",
      "\"produto\": \"Biscoito Maizena\",\n",
      "\"marca\": \"Mabel\",\n",
      "\"quantidade\": 400,\n",
      "\"unidade\": \"g\",\n",
      "\"apresentacao\": \"Pacote de 400g\",\n",
      "\"observacao\": \"\"\n",
      "}\n",
      "------------------------\n",
      "{ \"produto\": \"Filé de Merluza\", \"marca\": \"\", \"quantidade\": \"\", \"unidade\": \"\", \"apresentacao\": \"Congelado\", \"observacao\": \"\" }\n",
      "------------------------\n"
     ]
    }
   ],
   "source": [
    "df_littler = df.head(3)\n",
    "openai_model = \"gpt-4\"\n",
    "#openai_model = \"gpt-3.5-turbo-1106\"\n",
    "response_list = nfe_parser_gpt(df_littler, openai_model)\n",
    "\n",
    "print(\"Lenght of response_list: \",len(response_list))\n",
    "\n",
    "for item in response_list:\n",
    "    print(item)\n",
    "    print('------------------------')"
   ]
  },
  {
   "cell_type": "markdown",
   "metadata": {},
   "source": [
    "## Use NFe Parser\n",
    "### RUN ONLY IF YOU ARE SURE"
   ]
  },
  {
   "cell_type": "code",
   "execution_count": null,
   "metadata": {},
   "outputs": [],
   "source": [
    "# To select the model, change the variable openai_model\n",
    "## openai_model = \"gpt-4\"\n",
    "# openai_model = \"gpt-3.5-turbo-1106\"\n",
    "\n",
    "# response_list = nfe_parser_gpt(df, openai_model)\n",
    "\n",
    "# print(\"Lenght of response_list: \",len(response_list))\n",
    "\n",
    "# for item in response_list:\n",
    "#     print(item)\n",
    "#     print('------------------------')"
   ]
  },
  {
   "cell_type": "markdown",
   "metadata": {},
   "source": [
    "## Convert JSON Response to Python dictionary"
   ]
  },
  {
   "cell_type": "code",
   "execution_count": 58,
   "metadata": {},
   "outputs": [
    {
     "data": {
      "text/plain": [
       "[{'produto': 'Arroz Parbolizado',\n",
       "  'marca': 'Blue Vile',\n",
       "  'quantidade': '1.0',\n",
       "  'unidade': 'kg',\n",
       "  'apresentacao': 'pacote de 1.0kg',\n",
       "  'observacao': 'Longo Fino T1'},\n",
       " {'produto': 'Biscoito Maisena',\n",
       "  'marca': 'Mabel',\n",
       "  'quantidade': 400,\n",
       "  'unidade': 'g',\n",
       "  'apresentacao': '',\n",
       "  'observacao': ''},\n",
       " {'produto': 'Filé de Merluza',\n",
       "  'marca': '',\n",
       "  'quantidade': '1',\n",
       "  'unidade': 'unidade',\n",
       "  'apresentacao': 'pacote',\n",
       "  'observacao': 'Congelado'}]"
      ]
     },
     "execution_count": 58,
     "metadata": {},
     "output_type": "execute_result"
    }
   ],
   "source": [
    "# Convert JSON strings from response_list to Python dictionaries\n",
    "list_of_dicts = [json.loads(d) for d in response_list]\n",
    "list_of_dicts\n"
   ]
  },
  {
   "cell_type": "markdown",
   "metadata": {},
   "source": [
    "## Create Response Datafreme "
   ]
  },
  {
   "cell_type": "code",
   "execution_count": 62,
   "metadata": {},
   "outputs": [
    {
     "data": {
      "text/html": [
       "<div>\n",
       "<style scoped>\n",
       "    .dataframe tbody tr th:only-of-type {\n",
       "        vertical-align: middle;\n",
       "    }\n",
       "\n",
       "    .dataframe tbody tr th {\n",
       "        vertical-align: top;\n",
       "    }\n",
       "\n",
       "    .dataframe thead th {\n",
       "        text-align: right;\n",
       "    }\n",
       "</style>\n",
       "<table border=\"1\" class=\"dataframe\">\n",
       "  <thead>\n",
       "    <tr style=\"text-align: right;\">\n",
       "      <th></th>\n",
       "      <th>produto</th>\n",
       "      <th>marca</th>\n",
       "      <th>quantidade</th>\n",
       "      <th>unidade</th>\n",
       "      <th>apresentacao</th>\n",
       "      <th>observacao</th>\n",
       "    </tr>\n",
       "  </thead>\n",
       "  <tbody>\n",
       "    <tr>\n",
       "      <th>0</th>\n",
       "      <td>Arroz Parbolizado</td>\n",
       "      <td>Blue Vile</td>\n",
       "      <td>1.0</td>\n",
       "      <td>kg</td>\n",
       "      <td>pacote de 1.0kg</td>\n",
       "      <td>Longo Fino T1</td>\n",
       "    </tr>\n",
       "    <tr>\n",
       "      <th>1</th>\n",
       "      <td>Biscoito Maisena</td>\n",
       "      <td>Mabel</td>\n",
       "      <td>400</td>\n",
       "      <td>g</td>\n",
       "      <td></td>\n",
       "      <td></td>\n",
       "    </tr>\n",
       "    <tr>\n",
       "      <th>2</th>\n",
       "      <td>Filé de Merluza</td>\n",
       "      <td></td>\n",
       "      <td>1</td>\n",
       "      <td>unidade</td>\n",
       "      <td>pacote</td>\n",
       "      <td>Congelado</td>\n",
       "    </tr>\n",
       "  </tbody>\n",
       "</table>\n",
       "</div>"
      ],
      "text/plain": [
       "             produto      marca quantidade  unidade     apresentacao  \\\n",
       "0  Arroz Parbolizado  Blue Vile        1.0       kg  pacote de 1.0kg   \n",
       "1   Biscoito Maisena      Mabel        400        g                    \n",
       "2    Filé de Merluza                     1  unidade           pacote   \n",
       "\n",
       "      observacao  \n",
       "0  Longo Fino T1  \n",
       "1                 \n",
       "2      Congelado  "
      ]
     },
     "execution_count": 62,
     "metadata": {},
     "output_type": "execute_result"
    }
   ],
   "source": [
    "# Create a pandas DataFrame from list_of_dicts\n",
    "df_response = pd.DataFrame(list_of_dicts)\n",
    "df_response['quantidade'] = df_response['quantidade'].astype(str)\n",
    "df_response"
   ]
  },
  {
   "cell_type": "markdown",
   "metadata": {},
   "source": [
    "## Save DataFrame to Parquet File"
   ]
  },
  {
   "cell_type": "code",
   "execution_count": 64,
   "metadata": {},
   "outputs": [],
   "source": [
    "# Save DataFrame to parquet file\n",
    "parquet_file_name = f'../data/nfe_produto_1000_estruturado_anotado_test_{openai_model}.parquet'\n",
    "df_response.to_parquet(parquet_file_name)"
   ]
  },
  {
   "cell_type": "markdown",
   "metadata": {},
   "source": [
    "## Teste Parquet File in a new DataFrame"
   ]
  },
  {
   "cell_type": "code",
   "execution_count": 65,
   "metadata": {},
   "outputs": [
    {
     "data": {
      "text/html": [
       "<div>\n",
       "<style scoped>\n",
       "    .dataframe tbody tr th:only-of-type {\n",
       "        vertical-align: middle;\n",
       "    }\n",
       "\n",
       "    .dataframe tbody tr th {\n",
       "        vertical-align: top;\n",
       "    }\n",
       "\n",
       "    .dataframe thead th {\n",
       "        text-align: right;\n",
       "    }\n",
       "</style>\n",
       "<table border=\"1\" class=\"dataframe\">\n",
       "  <thead>\n",
       "    <tr style=\"text-align: right;\">\n",
       "      <th></th>\n",
       "      <th>produto</th>\n",
       "      <th>marca</th>\n",
       "      <th>quantidade</th>\n",
       "      <th>unidade</th>\n",
       "      <th>apresentacao</th>\n",
       "      <th>observacao</th>\n",
       "    </tr>\n",
       "  </thead>\n",
       "  <tbody>\n",
       "    <tr>\n",
       "      <th>0</th>\n",
       "      <td>Arroz Parbolizado</td>\n",
       "      <td>Blue Vile</td>\n",
       "      <td>1.0</td>\n",
       "      <td>kg</td>\n",
       "      <td>pacote de 1.0kg</td>\n",
       "      <td>Longo Fino T1</td>\n",
       "    </tr>\n",
       "    <tr>\n",
       "      <th>1</th>\n",
       "      <td>Biscoito Maisena</td>\n",
       "      <td>Mabel</td>\n",
       "      <td>400</td>\n",
       "      <td>g</td>\n",
       "      <td></td>\n",
       "      <td></td>\n",
       "    </tr>\n",
       "    <tr>\n",
       "      <th>2</th>\n",
       "      <td>Filé de Merluza</td>\n",
       "      <td></td>\n",
       "      <td>1</td>\n",
       "      <td>unidade</td>\n",
       "      <td>pacote</td>\n",
       "      <td>Congelado</td>\n",
       "    </tr>\n",
       "  </tbody>\n",
       "</table>\n",
       "</div>"
      ],
      "text/plain": [
       "             produto      marca quantidade  unidade     apresentacao  \\\n",
       "0  Arroz Parbolizado  Blue Vile        1.0       kg  pacote de 1.0kg   \n",
       "1   Biscoito Maisena      Mabel        400        g                    \n",
       "2    Filé de Merluza                     1  unidade           pacote   \n",
       "\n",
       "      observacao  \n",
       "0  Longo Fino T1  \n",
       "1                 \n",
       "2      Congelado  "
      ]
     },
     "execution_count": 65,
     "metadata": {},
     "output_type": "execute_result"
    }
   ],
   "source": [
    "# Testando a leitura do arquivo parquet\n",
    "df_from_parquet = pd.read_parquet(parquet_file_name)\n",
    "df_from_parquet.head()"
   ]
  }
 ],
 "metadata": {
  "kernelspec": {
   "display_name": ".venv",
   "language": "python",
   "name": "python3"
  },
  "language_info": {
   "codemirror_mode": {
    "name": "ipython",
    "version": 3
   },
   "file_extension": ".py",
   "mimetype": "text/x-python",
   "name": "python",
   "nbconvert_exporter": "python",
   "pygments_lexer": "ipython3",
   "version": "3.12.0"
  }
 },
 "nbformat": 4,
 "nbformat_minor": 2
}
